{
 "cells": [
  {
   "cell_type": "code",
   "execution_count": 5,
   "id": "initial_id",
   "metadata": {
    "collapsed": true,
    "ExecuteTime": {
     "end_time": "2024-05-12T08:39:20.231414Z",
     "start_time": "2024-05-12T08:39:19.441130Z"
    }
   },
   "outputs": [],
   "source": [
    "import random\n",
    "import torch\n",
    "import matplotlib.pyplot as plt\n",
    "from PIL import Image\n",
    "from module.data_setup import CustomDataset\n",
    "from torch.utils.data import DataLoader\n",
    "device = torch.device(\"cuda\" if torch.cuda.is_available() else \"cpu\")\n",
    "\n",
    "train_path = 'dataset/augment_data'\n",
    "train_file = 'dataset/train.txt'\n",
    "val_file = 'dataset/val.txt'\n",
    "vocab_file = 'dataset/augment_labels.txt'\n",
    "batch_size = 1\n",
    "seq_length = 144\n",
    "image_size = (384, 384)\n",
    "train_dataset = CustomDataset(train_path, train_file, vocab_file, seq_length, image_size)\n",
    "val_dataset = CustomDataset(train_path, val_file, vocab_file, seq_length, image_size)\n",
    "train_loader = DataLoader(train_dataset, batch_size=batch_size, shuffle=True)\n",
    "val_loader = DataLoader(val_dataset, batch_size=batch_size, shuffle=True)"
   ]
  },
  {
   "cell_type": "code",
   "outputs": [
    {
     "name": "stdout",
     "output_type": "stream",
     "text": [
      "torch.Size([1, 3, 384, 384]) torch.Size([1, 144])\n",
      "tensor([[  1, 215, 177,  98,   3,  35, 147, 121, 170, 147,   3,  58, 147, 174,\n",
      "         170,   3, 197, 104,   3,  85,  56, 170,  89,   3,  35,  99, 226, 170,\n",
      "          89,   3,  27, 226,  85, 171,  44,   3,  51,  69, 197,  69, 226, 170,\n",
      "           3,  38,  99, 136, 170, 197, 128, 226,  99,  27, 171,  99,   5,   2,\n",
      "           0,   0,   0,   0,   0,   0,   0,   0,   0,   0,   0,   0,   0,   0,\n",
      "           0,   0,   0,   0,   0,   0,   0,   0,   0,   0,   0,   0,   0,   0,\n",
      "           0,   0,   0,   0,   0,   0,   0,   0,   0,   0,   0,   0,   0,   0,\n",
      "           0,   0,   0,   0,   0,   0,   0,   0,   0,   0,   0,   0,   0,   0,\n",
      "           0,   0,   0,   0,   0,   0,   0,   0,   0,   0,   0,   0,   0,   0,\n",
      "           0,   0,   0,   0,   0,   0,   0,   0,   0,   0,   0,   0,   0,   0,\n",
      "           0,   0,   0,   0]], dtype=torch.int32)\n"
     ]
    }
   ],
   "source": [
    "for batch_idx, (input_encoder, input_decoder) in enumerate(train_loader):\n",
    "    print(input_encoder.shape, input_decoder.shape)\n",
    "    print(input_decoder)\n",
    "    break"
   ],
   "metadata": {
    "collapsed": false,
    "ExecuteTime": {
     "end_time": "2024-05-12T08:48:12.909593Z",
     "start_time": "2024-05-12T08:48:12.860016Z"
    }
   },
   "id": "bc85d564606d4b4f",
   "execution_count": 7
  },
  {
   "cell_type": "code",
   "outputs": [],
   "source": [
    "import os\n",
    "\n",
    "ws = []\n",
    "for name in os.listdir('dataset/images/'):\n",
    "    image_path = os.path.join('dataset/images/', name)\n",
    "    image = Image.open(image_path)\n",
    "    h, w = image.size\n",
    "    ws.append(h)"
   ],
   "metadata": {
    "collapsed": false,
    "ExecuteTime": {
     "end_time": "2024-05-12T09:08:15.610397Z",
     "start_time": "2024-05-12T09:08:15.108205Z"
    }
   },
   "id": "e6ba3dd4bfeb5920",
   "execution_count": 21
  },
  {
   "cell_type": "code",
   "outputs": [
    {
     "data": {
      "text/plain": "1572"
     },
     "execution_count": 23,
     "metadata": {},
     "output_type": "execute_result"
    }
   ],
   "source": [
    "max(ws)"
   ],
   "metadata": {
    "collapsed": false,
    "ExecuteTime": {
     "end_time": "2024-05-12T09:08:17.509862Z",
     "start_time": "2024-05-12T09:08:17.492833Z"
    }
   },
   "id": "8e6d9247a87c5a04",
   "execution_count": 23
  }
 ],
 "metadata": {
  "kernelspec": {
   "display_name": "Python 3",
   "language": "python",
   "name": "python3"
  },
  "language_info": {
   "codemirror_mode": {
    "name": "ipython",
    "version": 2
   },
   "file_extension": ".py",
   "mimetype": "text/x-python",
   "name": "python",
   "nbconvert_exporter": "python",
   "pygments_lexer": "ipython2",
   "version": "2.7.6"
  }
 },
 "nbformat": 4,
 "nbformat_minor": 5
}
