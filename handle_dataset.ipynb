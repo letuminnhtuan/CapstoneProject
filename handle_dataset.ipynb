{
 "cells": [
  {
   "cell_type": "markdown",
   "source": [
    "# 1. Label"
   ],
   "metadata": {
    "collapsed": false
   },
   "id": "68027a7e0d5e3d39"
  },
  {
   "cell_type": "code",
   "execution_count": 11,
   "id": "initial_id",
   "metadata": {
    "collapsed": true,
    "ExecuteTime": {
     "end_time": "2024-04-18T05:38:32.119036Z",
     "start_time": "2024-04-18T05:38:32.110056Z"
    }
   },
   "outputs": [],
   "source": [
    "import regex"
   ]
  },
  {
   "cell_type": "code",
   "outputs": [],
   "source": [
    "characters = set()"
   ],
   "metadata": {
    "collapsed": false,
    "ExecuteTime": {
     "end_time": "2024-04-18T05:38:32.320842Z",
     "start_time": "2024-04-18T05:38:32.309914Z"
    }
   },
   "id": "4b586cbca566ff41",
   "execution_count": 12
  },
  {
   "cell_type": "code",
   "outputs": [],
   "source": [
    "x = []"
   ],
   "metadata": {
    "collapsed": false,
    "ExecuteTime": {
     "end_time": "2024-04-18T05:38:32.476691Z",
     "start_time": "2024-04-18T05:38:32.460142Z"
    }
   },
   "id": "1665186058eccb75",
   "execution_count": 13
  },
  {
   "cell_type": "code",
   "outputs": [],
   "source": [
    "with open('dataset/augment_labels.txt', 'r', encoding='utf-8') as f:\n",
    "    for line in f.readlines():\n",
    "        image_name, label = line.strip().split('--------')\n",
    "        chars = regex.findall(r'\\X', label)\n",
    "        x.append(len(chars))\n",
    "        if '' in chars:\n",
    "            print(label)\n",
    "        for char in chars:\n",
    "            characters.add(char)\n",
    "    f.close()"
   ],
   "metadata": {
    "collapsed": false,
    "ExecuteTime": {
     "end_time": "2024-04-18T05:38:53.573208Z",
     "start_time": "2024-04-18T05:38:53.202522Z"
    }
   },
   "id": "660613b526d9a532",
   "execution_count": 17
  },
  {
   "cell_type": "code",
   "outputs": [
    {
     "data": {
      "text/plain": "127"
     },
     "execution_count": 18,
     "metadata": {},
     "output_type": "execute_result"
    }
   ],
   "source": [
    "max(x)"
   ],
   "metadata": {
    "collapsed": false,
    "ExecuteTime": {
     "end_time": "2024-04-18T05:38:53.589162Z",
     "start_time": "2024-04-18T05:38:53.573208Z"
    }
   },
   "id": "4dc5a2920e484277",
   "execution_count": 18
  },
  {
   "cell_type": "code",
   "outputs": [
    {
     "data": {
      "text/plain": "321"
     },
     "execution_count": 19,
     "metadata": {},
     "output_type": "execute_result"
    }
   ],
   "source": [
    "len(characters)"
   ],
   "metadata": {
    "collapsed": false,
    "ExecuteTime": {
     "end_time": "2024-04-18T05:38:53.636655Z",
     "start_time": "2024-04-18T05:38:53.631671Z"
    }
   },
   "id": "74088236fb369a63",
   "execution_count": 19
  },
  {
   "cell_type": "code",
   "outputs": [],
   "source": [
    "with open('dataset/vocab.txt', 'w', encoding='utf-8') as f:\n",
    "    for char in characters:\n",
    "        f.write(char + '\\n')"
   ],
   "metadata": {
    "collapsed": false,
    "ExecuteTime": {
     "end_time": "2024-04-18T05:38:54.213323Z",
     "start_time": "2024-04-18T05:38:54.197270Z"
    }
   },
   "id": "49d387f9f4193d1a",
   "execution_count": 20
  },
  {
   "cell_type": "markdown",
   "source": [
    "# 2. Image"
   ],
   "metadata": {
    "collapsed": false
   },
   "id": "fd8438a6fadefed7"
  },
  {
   "cell_type": "code",
   "outputs": [],
   "source": [
    "from PIL import Image\n",
    "import os\n",
    "import numpy as np"
   ],
   "metadata": {
    "collapsed": false,
    "ExecuteTime": {
     "end_time": "2024-04-18T00:16:50.280089Z",
     "start_time": "2024-04-18T00:16:50.225456Z"
    }
   },
   "id": "b02e90a10328da83",
   "execution_count": 8
  },
  {
   "cell_type": "code",
   "outputs": [],
   "source": [
    "def resize_image(image, height=64):\n",
    "    w, h = image.size\n",
    "    ratio = height / h\n",
    "    new_width = int(w * ratio)\n",
    "    new_width = np.ceil(new_width / height) * height\n",
    "    processed_image = image.resize((int(new_width), height))\n",
    "    return processed_image\n",
    "\n",
    "def padding_image(image):\n",
    "    w, h = image.size\n",
    "    background = Image.new('RGB', (w, w))\n",
    "    background.paste(image, (0, 0))\n",
    "    background = background.resize((640, 640))\n",
    "    return background"
   ],
   "metadata": {
    "collapsed": false,
    "ExecuteTime": {
     "end_time": "2024-04-18T00:16:52.394899Z",
     "start_time": "2024-04-18T00:16:52.382900Z"
    }
   },
   "id": "edc7b9f4a67eab2a",
   "execution_count": 9
  },
  {
   "cell_type": "code",
   "outputs": [],
   "source": [
    "if not os.path.exists('dataset/processed_images/'):\n",
    "    os.mkdir('dataset/processed_images/')\n",
    "for dir in os.listdir('dataset/data'):\n",
    "    image_path = os.path.join(\"dataset/data\", dir)\n",
    "    image = Image.open(image_path).convert('RGB')\n",
    "    resized_image = resize_image(image)\n",
    "    padding = padding_image(resized_image)\n",
    "    new_image_path = os.path.join(\"dataset/processed_images/\", dir)\n",
    "    padding.save(new_image_path)"
   ],
   "metadata": {
    "collapsed": false,
    "ExecuteTime": {
     "end_time": "2024-04-18T01:22:28.101490Z",
     "start_time": "2024-04-18T00:17:03.102708Z"
    }
   },
   "id": "aada1372ccf00bac",
   "execution_count": 10
  },
  {
   "cell_type": "code",
   "outputs": [
    {
     "data": {
      "text/plain": "204014"
     },
     "execution_count": 11,
     "metadata": {},
     "output_type": "execute_result"
    }
   ],
   "source": [
    "len(os.listdir(\"dataset/processed_images/\"))"
   ],
   "metadata": {
    "collapsed": false,
    "ExecuteTime": {
     "end_time": "2024-04-18T01:22:28.164305Z",
     "start_time": "2024-04-18T01:22:28.101720Z"
    }
   },
   "id": "25b77ec8f6398ce2",
   "execution_count": 11
  },
  {
   "cell_type": "markdown",
   "source": [
    "# 3. Rename"
   ],
   "metadata": {
    "collapsed": false
   },
   "id": "ac630d05f6258fa0"
  },
  {
   "cell_type": "code",
   "outputs": [],
   "source": [
    "from PIL import Image\n",
    "import os"
   ],
   "metadata": {
    "collapsed": false,
    "ExecuteTime": {
     "end_time": "2024-04-12T11:13:30.887575Z",
     "start_time": "2024-04-12T11:13:30.844158Z"
    }
   },
   "id": "699b885bb8546d23",
   "execution_count": 1
  },
  {
   "cell_type": "code",
   "outputs": [],
   "source": [
    "path = 'Screenshots'\n",
    "idx = 0\n",
    "lines = []\n",
    "for dir in os.listdir(path):\n",
    "    image_path = os.path.join(path, dir)\n",
    "    image = Image.open(image_path).convert('RGB')\n",
    "    new_path = os.path.join(path, f'imgs{idx}.png')\n",
    "    image.save(new_path)\n",
    "    lines.append(f'imgs{idx}.png--------')\n",
    "    idx += 1"
   ],
   "metadata": {
    "collapsed": false,
    "ExecuteTime": {
     "end_time": "2024-04-12T11:16:56.717391Z",
     "start_time": "2024-04-12T11:16:55.860965Z"
    }
   },
   "id": "2040f5a130a8f365",
   "execution_count": 3
  },
  {
   "cell_type": "code",
   "outputs": [],
   "source": [
    "with open('t.txt', 'w', encoding='utf-8') as f:\n",
    "    for line in lines:\n",
    "        f.write(line + '\\n')"
   ],
   "metadata": {
    "collapsed": false,
    "ExecuteTime": {
     "end_time": "2024-04-12T11:17:32.161058Z",
     "start_time": "2024-04-12T11:17:32.148058Z"
    }
   },
   "id": "4b448ec42b64e7e3",
   "execution_count": 5
  },
  {
   "cell_type": "code",
   "outputs": [],
   "source": [
    "from PIL import Image\n",
    "import os\n",
    "path = 'dataset/KALAPA_train_images/KALAPA_train_images'\n",
    "idx = 0\n",
    "lines = []\n",
    "with open('dataset/KALAPA_train_images/VN.txt', 'r', encoding='utf-8') as f:\n",
    "    for line in f.readlines():\n",
    "        image_name, label = line.rstrip().split('--------')\n",
    "        new_path = os.path.join(path, f'images_{idx}.png')\n",
    "        image_path = os.path.join(path, image_name)\n",
    "        os.rename(image_path, new_path)\n",
    "        lines.append(f'images_{idx}.png--------{label}')\n",
    "        idx += 1"
   ],
   "metadata": {
    "collapsed": false,
    "ExecuteTime": {
     "end_time": "2024-04-15T08:15:11.610716Z",
     "start_time": "2024-04-15T08:15:11.518413Z"
    }
   },
   "id": "87b18ecd3d9c8828",
   "execution_count": 4
  },
  {
   "cell_type": "code",
   "outputs": [],
   "source": [
    "with open('temp.txt', 'w', encoding='utf-8') as f:\n",
    "    for line in lines:\n",
    "        f.write(line + '\\n')"
   ],
   "metadata": {
    "collapsed": false,
    "ExecuteTime": {
     "end_time": "2024-04-15T08:15:40.106963Z",
     "start_time": "2024-04-15T08:15:40.094761Z"
    }
   },
   "id": "ae274e216eaab6f8",
   "execution_count": 5
  },
  {
   "cell_type": "code",
   "outputs": [],
   "source": [
    "import os\n",
    "from PIL import Image\n",
    "\n",
    "idx = 0\n",
    "lines = []\n",
    "with open('dataset/labels.txt', 'r', encoding='utf-8') as f:\n",
    "    for line in f.readlines():\n",
    "        image_name, label = line.rstrip().split('--------')\n",
    "        image_path = os.path.join('dataset/images/', image_name)\n",
    "        new_path = os.path.join('dataset/images/', f'i_{idx}.png')\n",
    "        os.rename(image_path, new_path)\n",
    "        lines.append(f'i_{idx}.png--------{label}')\n",
    "        idx += 1"
   ],
   "metadata": {
    "collapsed": false,
    "ExecuteTime": {
     "end_time": "2024-04-16T13:25:23.672676Z",
     "start_time": "2024-04-16T13:25:23.447085Z"
    }
   },
   "id": "5a8751940b10c8c2",
   "execution_count": 4
  },
  {
   "cell_type": "code",
   "outputs": [],
   "source": [
    "with open('dataset/annotations.txt', 'w', encoding='utf-8') as f:\n",
    "    for line in lines:\n",
    "        f.write(line + '\\n')"
   ],
   "metadata": {
    "collapsed": false,
    "ExecuteTime": {
     "end_time": "2024-04-16T13:26:09.220619Z",
     "start_time": "2024-04-16T13:26:09.204585Z"
    }
   },
   "id": "c0244838dad4bb9c",
   "execution_count": 6
  },
  {
   "cell_type": "code",
   "outputs": [],
   "source": [],
   "metadata": {
    "collapsed": false
   },
   "id": "978cef28a06d0a6c"
  }
 ],
 "metadata": {
  "kernelspec": {
   "display_name": "Python 3",
   "language": "python",
   "name": "python3"
  },
  "language_info": {
   "codemirror_mode": {
    "name": "ipython",
    "version": 2
   },
   "file_extension": ".py",
   "mimetype": "text/x-python",
   "name": "python",
   "nbconvert_exporter": "python",
   "pygments_lexer": "ipython2",
   "version": "2.7.6"
  }
 },
 "nbformat": 4,
 "nbformat_minor": 5
}
