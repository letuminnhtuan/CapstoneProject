{
 "cells": [
  {
   "cell_type": "code",
   "execution_count": 9,
   "id": "initial_id",
   "metadata": {
    "collapsed": true,
    "ExecuteTime": {
     "end_time": "2024-06-05T04:07:49.166429Z",
     "start_time": "2024-06-05T04:07:48.935981Z"
    }
   },
   "outputs": [
    {
     "data": {
      "text/plain": "<All keys matched successfully>"
     },
     "execution_count": 9,
     "metadata": {},
     "output_type": "execute_result"
    }
   ],
   "source": [
    "import torch\n",
    "import numpy as np\n",
    "from PIL import Image\n",
    "import IPython.display as ipd\n",
    "from torchvision.transforms import v2\n",
    "from module.model_builder.model import Model\n",
    "\n",
    "device = torch.device(\"cuda\" if torch.cuda.is_available() else \"cpu\")\n",
    "checkpoints = torch.load(\"checkpoints2/pre4.pth.tar\", map_location=device)\n",
    "vocab = checkpoints['vocab']\n",
    "transform = v2.Compose([\n",
    "    v2.PILToTensor(),\n",
    "    v2.ToDtype(torch.float)\n",
    "])\n",
    "# Create instance model\n",
    "n_dim_model = 256\n",
    "# --- Encoder Parameters ---\n",
    "input_chanel_encoder = 1\n",
    "hidden_dim_encoder = 384\n",
    "n_head_encoder = 8\n",
    "n_expansion_encoder = 8\n",
    "n_layer_encoder = 6\n",
    "# --- Decoder Parameters ---\n",
    "n_head_decoder = 8\n",
    "seq_length_decoder = 224\n",
    "vocab_size_decoder = len(vocab)\n",
    "n_expansion_decoder = 8\n",
    "n_layer_decoder = 6\n",
    "model = Model(n_dim_model, input_chanel_encoder, hidden_dim_encoder, n_head_encoder, n_expansion_encoder, n_layer_encoder,\n",
    "              n_head_decoder, seq_length_decoder, vocab_size_decoder, n_expansion_decoder, n_layer_decoder).to(device)\n",
    "model.load_state_dict(checkpoints['model_state_dict'])"
   ]
  },
  {
   "cell_type": "code",
   "outputs": [],
   "source": [
    "def resize_image(image, height=32):\n",
    "    w, h = image.size\n",
    "    ratio = height / h\n",
    "    new_width = int(w * ratio)\n",
    "    new_width = np.ceil(new_width / 32) * 32\n",
    "    processed_image = image.resize((int(new_width), height))\n",
    "    return processed_image\n",
    "\n",
    "def pre_process(image):\n",
    "    image = resize_image(image)\n",
    "    background = Image.new('L', (1600, 32))\n",
    "    background.paste(image, (0, 0))\n",
    "    return background\n",
    "\n",
    "def inference(image: Image, model: Model, vocab):\n",
    "    v = list(vocab.keys())\n",
    "    idx_start = vocab['<start>']\n",
    "    idx_end = vocab['<end>']\n",
    "    model.eval()\n",
    "    with torch.no_grad():\n",
    "        labels = [idx_start]\n",
    "        # Encoder\n",
    "        input_encoder = transform(image)\n",
    "        input_encoder = input_encoder.unsqueeze(0).to(device)\n",
    "        for _ in range(seq_length_decoder):\n",
    "            # Decoder\n",
    "            input_decoder = torch.Tensor(labels).int()\n",
    "            input_decoder = torch.unsqueeze(input_decoder, 0).to(device)\n",
    "            output = model(input_encoder, input_decoder)\n",
    "            idx = torch.argmax(output[:, -1, :])\n",
    "            labels.append(idx.cpu().item())\n",
    "            if idx.cpu().item() == idx_end:\n",
    "                break\n",
    "        return ''.join([v[i] for i in labels[1:-1]])"
   ],
   "metadata": {
    "collapsed": false,
    "ExecuteTime": {
     "end_time": "2024-06-05T04:07:49.181883Z",
     "start_time": "2024-06-05T04:07:49.167376Z"
    }
   },
   "id": "6dd73909825e5bdf",
   "execution_count": 10
  },
  {
   "cell_type": "code",
   "outputs": [
    {
     "name": "stdout",
     "output_type": "stream",
     "text": [
      "Là một vạn lẫn của đầu thô đài\n"
     ]
    },
    {
     "data": {
      "text/plain": "<PIL.Image.Image image mode=L size=279x26>",
      "image/png": "[encoded data removed]",
      "image/jpeg": "[encoded data removed]"
     },
     "metadata": {},
     "output_type": "display_data"
    }
   ],
   "source": [
    "image = Image.open('test.png').convert('L')\n",
    "process_image = pre_process(image)\n",
    "text = inference(process_image, model, vocab)\n",
    "print(text)\n",
    "ipd.display(image)"
   ],
   "metadata": {
    "collapsed": false,
    "ExecuteTime": {
     "end_time": "2024-06-05T04:07:51.766173Z",
     "start_time": "2024-06-05T04:07:49.182883Z"
    }
   },
   "id": "f51a384dacc52123",
   "execution_count": 11
  },
  {
   "cell_type": "code",
   "outputs": [],
   "source": [],
   "metadata": {
    "collapsed": false,
    "ExecuteTime": {
     "end_time": "2024-06-05T04:07:51.781678Z",
     "start_time": "2024-06-05T04:07:51.766173Z"
    }
   },
   "id": "7bed337d07882132",
   "execution_count": 11
  },
  {
   "cell_type": "code",
   "outputs": [],
   "source": [],
   "metadata": {
    "collapsed": false,
    "ExecuteTime": {
     "end_time": "2024-06-05T04:07:51.797678Z",
     "start_time": "2024-06-05T04:07:51.782678Z"
    }
   },
   "id": "57d5f4c0cfb2ea83",
   "execution_count": 11
  }
 ],
 "metadata": {
  "kernelspec": {
   "display_name": "Python 3",
   "language": "python",
   "name": "python3"
  },
  "language_info": {
   "codemirror_mode": {
    "name": "ipython",
    "version": 2
   },
   "file_extension": ".py",
   "mimetype": "text/x-python",
   "name": "python",
   "nbconvert_exporter": "python",
   "pygments_lexer": "ipython2",
   "version": "2.7.6"
  }
 },
 "nbformat": 4,
 "nbformat_minor": 5
}
