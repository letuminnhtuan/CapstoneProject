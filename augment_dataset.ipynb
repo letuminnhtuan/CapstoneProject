{
 "cells": [
  {
   "cell_type": "code",
   "execution_count": 1,
   "id": "initial_id",
   "metadata": {
    "collapsed": true,
    "ExecuteTime": {
     "end_time": "2024-05-12T09:17:12.395227Z",
     "start_time": "2024-05-12T09:17:12.323486Z"
    }
   },
   "outputs": [],
   "source": [
    "import cv2\n",
    "import numpy as np\n",
    "import os\n",
    "from PIL import Image"
   ]
  },
  {
   "cell_type": "code",
   "outputs": [],
   "source": [
    "def random_rotate(image, angle):\n",
    "    height, width = image.shape[:2]\n",
    "    rotation_matrix = cv2.getRotationMatrix2D((width / 2, height / 2), angle, 1)\n",
    "    rotated_image = cv2.warpAffine(image, rotation_matrix, (width, height))\n",
    "    return Image.fromarray(rotated_image)\n",
    "\n",
    "def random_blur(image, kernel_size):\n",
    "    blurred_image = cv2.GaussianBlur(image, (kernel_size, kernel_size), 0)\n",
    "    return Image.fromarray(blurred_image)\n",
    "\n",
    "def random_add_noise(image, mean=0, stddev=10):\n",
    "    noise = np.random.normal(mean, stddev, image.shape).astype('uint8')\n",
    "    noisy_image = cv2.add(image, noise)\n",
    "    return Image.fromarray(noisy_image)"
   ],
   "metadata": {
    "collapsed": false,
    "ExecuteTime": {
     "end_time": "2024-05-12T09:17:12.411236Z",
     "start_time": "2024-05-12T09:17:12.396227Z"
    }
   },
   "id": "ded30fc00127b6c3",
   "execution_count": 2
  },
  {
   "cell_type": "code",
   "outputs": [],
   "source": [
    "def resize_image(image, height=32):\n",
    "    w, h = image.size\n",
    "    ratio = height / h\n",
    "    new_width = int(w * ratio)\n",
    "    new_width = np.ceil(new_width / 32) * 32\n",
    "    processed_image = image.resize((int(new_width), height))\n",
    "    return processed_image\n",
    "\n",
    "def padding_image(image):\n",
    "    image = resize_image(image)\n",
    "    background = Image.new('RGB', (1600, 32))\n",
    "    background.paste(image, (0, 0))\n",
    "    return background"
   ],
   "metadata": {
    "collapsed": false,
    "ExecuteTime": {
     "end_time": "2024-05-12T09:17:12.426759Z",
     "start_time": "2024-05-12T09:17:12.411236Z"
    }
   },
   "id": "39111e44299d098d",
   "execution_count": 3
  },
  {
   "cell_type": "code",
   "outputs": [
    {
     "name": "stdout",
     "output_type": "stream",
     "text": [
      "24965\n"
     ]
    }
   ],
   "source": [
    "angles = [0, 0, 0]\n",
    "blurs = [3]\n",
    "if not os.path.exists('dataset/augment_data'):\n",
    "    os.mkdir('dataset/augment_data')\n",
    "idx = 0\n",
    "with open('dataset/augment_labels.txt', 'w', encoding='utf-8') as file:\n",
    "    with open('dataset/label.txt', 'r', encoding='utf-8') as f:\n",
    "        for line in f.readlines():\n",
    "            image_name, label = line.rstrip().split('--------')\n",
    "            image_path = os.path.join('dataset/images', image_name)\n",
    "            image = cv2.imread(image_path)\n",
    "            # Save root image\n",
    "            root_image = Image.fromarray(image)\n",
    "            new_path = os.path.join('dataset/augment_data/', f'image_{idx}.png')\n",
    "            root_image = padding_image(root_image)\n",
    "            root_image.save(new_path)\n",
    "            file.write(f'image_{idx}.png--------{label}\\n')\n",
    "            idx += 1\n",
    "            # Rotate image\n",
    "            for angle in angles:\n",
    "                new_path = os.path.join('dataset/augment_data/', f'image_{idx}.png')\n",
    "                new_image = np.array(root_image)\n",
    "                rotated_image = random_rotate(new_image, angle)\n",
    "                rotated_image.save(new_path)\n",
    "                file.write(f'image_{idx}.png--------{label}\\n')\n",
    "                idx += 1\n",
    "            # Blur image\n",
    "            for blur in blurs:\n",
    "                new_path = os.path.join('dataset/augment_data/', f'image_{idx}.png')\n",
    "                new_image = np.array(root_image)\n",
    "                blured_image = random_blur(new_image, blur)\n",
    "                blured_image.save(new_path)\n",
    "                file.write(f'image_{idx}.png--------{label}\\n')\n",
    "                idx += 1\n",
    "print(len(os.listdir('dataset/augment_data')))"
   ],
   "metadata": {
    "collapsed": false,
    "ExecuteTime": {
     "end_time": "2024-05-12T09:18:16.171783Z",
     "start_time": "2024-05-12T09:17:12.427760Z"
    }
   },
   "id": "9713e0233b192244",
   "execution_count": 4
  },
  {
   "cell_type": "code",
   "outputs": [
    {
     "name": "stdout",
     "output_type": "stream",
     "text": [
      "127 229\n"
     ]
    }
   ],
   "source": [
    "import regex\n",
    "\n",
    "characters = set()\n",
    "l = []\n",
    "\n",
    "with open('dataset/augment_labels.txt', 'r', encoding='utf-8') as f:\n",
    "    for line in f.readlines():\n",
    "        image_name, label = line.strip().split('--------')\n",
    "        chars = regex.findall(r'\\X', label)\n",
    "        l.append(len(chars))\n",
    "        if '' in chars:\n",
    "            print(label)\n",
    "        for char in chars:\n",
    "            if char != ' ':\n",
    "                characters.add(char)\n",
    "    f.close()\n",
    "\n",
    "print(max(l), len(characters))"
   ],
   "metadata": {
    "collapsed": false,
    "ExecuteTime": {
     "end_time": "2024-05-12T09:18:16.533262Z",
     "start_time": "2024-05-12T09:18:16.172783Z"
    }
   },
   "id": "91feccfe3db2314f",
   "execution_count": 5
  },
  {
   "cell_type": "code",
   "outputs": [],
   "source": [
    "with open('dataset/vocab.txt', 'w', encoding='utf-8') as f:\n",
    "    for char in characters:\n",
    "        f.write(char + '\\n')"
   ],
   "metadata": {
    "collapsed": false,
    "ExecuteTime": {
     "end_time": "2024-05-12T09:18:16.549276Z",
     "start_time": "2024-05-12T09:18:16.533262Z"
    }
   },
   "id": "a3fba2fa0155d442",
   "execution_count": 6
  },
  {
   "cell_type": "code",
   "outputs": [],
   "source": [
    "import random\n",
    "\n",
    "with open('dataset/augment_labels.txt', 'r', encoding='utf-8') as file:\n",
    "    lines = file.readlines()\n",
    "    n = len(lines)\n",
    "    idx = [i for i in range(n)]\n",
    "    temp = random.sample(idx, int(n * 0.8))"
   ],
   "metadata": {
    "collapsed": false,
    "ExecuteTime": {
     "end_time": "2024-05-12T09:18:16.565279Z",
     "start_time": "2024-05-12T09:18:16.549276Z"
    }
   },
   "id": "a3613c54fedf00c5",
   "execution_count": 7
  },
  {
   "cell_type": "code",
   "outputs": [
    {
     "data": {
      "text/plain": "24965"
     },
     "execution_count": 8,
     "metadata": {},
     "output_type": "execute_result"
    }
   ],
   "source": [
    "len(lines)"
   ],
   "metadata": {
    "collapsed": false,
    "ExecuteTime": {
     "end_time": "2024-05-12T09:18:16.580790Z",
     "start_time": "2024-05-12T09:18:16.565279Z"
    }
   },
   "id": "57b4c1dea58b6f56",
   "execution_count": 8
  },
  {
   "cell_type": "code",
   "outputs": [],
   "source": [
    "train_line = [lines[i] for i in temp]\n",
    "val_line = [lines[i] for i in range(n) if i not in temp]"
   ],
   "metadata": {
    "collapsed": false,
    "ExecuteTime": {
     "end_time": "2024-05-12T09:18:17.791597Z",
     "start_time": "2024-05-12T09:18:16.580790Z"
    }
   },
   "id": "3a6c2bfaa44acd17",
   "execution_count": 9
  },
  {
   "cell_type": "code",
   "outputs": [
    {
     "data": {
      "text/plain": "(19972, 4993)"
     },
     "execution_count": 10,
     "metadata": {},
     "output_type": "execute_result"
    }
   ],
   "source": [
    "len(train_line), len(val_line)"
   ],
   "metadata": {
    "collapsed": false,
    "ExecuteTime": {
     "end_time": "2024-05-12T09:18:17.807032Z",
     "start_time": "2024-05-12T09:18:17.791597Z"
    }
   },
   "id": "3862834d3799aa53",
   "execution_count": 10
  },
  {
   "cell_type": "code",
   "outputs": [],
   "source": [
    "with open('dataset/train.txt', 'w', encoding='utf-8') as file:\n",
    "    for line in train_line:\n",
    "        file.write(line)\n",
    "        \n",
    "with open('dataset/val.txt', 'w', encoding='utf-8') as file:\n",
    "    for line in val_line:\n",
    "        file.write(line)"
   ],
   "metadata": {
    "collapsed": false,
    "ExecuteTime": {
     "end_time": "2024-05-12T09:18:17.837053Z",
     "start_time": "2024-05-12T09:18:17.807032Z"
    }
   },
   "id": "5ebd5f54fbf65723",
   "execution_count": 11
  },
  {
   "cell_type": "code",
   "outputs": [],
   "source": [
    "# import regex\n",
    "# vocab = r'''aAàÀảẢãÃáÁạẠăĂằẰẳẲẵẴắẮặẶâÂầẦẩẨẫẪấẤậẬbBcCdDđĐeEèÈẻẺẽẼéÉẹẸêÊềỀểỂễỄếẾệỆfFgGhHiIìÌỉỈĩĨíÍịỊjJkKlLmMnNoOòÒỏỎõÕóÓọOỌôÔồỒổỔỗÔỖốỐộỘơƠơỜởỞỡỠớỚợỢpPqQrRsStTuUùÙủỦũŨúÚụỤưƯừỪửỬữỮứỨựỰvVwWxXyYỳỲỷỶỹỸýÝỵỴzZ0123456789ōā²ūĀüŪöÖÜ!\"#$%&()*+,-./:;<=>?@[\\]^_`{|}~' ∈Ō°'''\n",
    "# \n",
    "# tokens = regex.findall(r'\\X', vocab)\n",
    "# vocabs = set()\n",
    "# with open('D:/DATN_Handle/annotations.txt', 'r', encoding='utf-8') as f:\n",
    "#     for line in f.readlines():\n",
    "#         image_name, label = line.strip().split('--------')\n",
    "#         chars = regex.findall(r'\\X', label)\n",
    "#         for char in line.rstrip():\n",
    "#             vocabs.add(char)\n",
    "#     f.close()\n",
    "# i = 0\n",
    "# for char in vocabs:\n",
    "#     if char not in tokens:\n",
    "#         print(char)\n",
    "#         i += 1\n",
    "#         if i == 10:\n",
    "#             break"
   ],
   "metadata": {
    "collapsed": false,
    "ExecuteTime": {
     "end_time": "2024-05-12T09:18:17.853059Z",
     "start_time": "2024-05-12T09:18:17.837053Z"
    }
   },
   "id": "fee24b7040c041f3",
   "execution_count": 12
  }
 ],
 "metadata": {
  "kernelspec": {
   "display_name": "Python 3",
   "language": "python",
   "name": "python3"
  },
  "language_info": {
   "codemirror_mode": {
    "name": "ipython",
    "version": 2
   },
   "file_extension": ".py",
   "mimetype": "text/x-python",
   "name": "python",
   "nbconvert_exporter": "python",
   "pygments_lexer": "ipython2",
   "version": "2.7.6"
  }
 },
 "nbformat": 4,
 "nbformat_minor": 5
}
